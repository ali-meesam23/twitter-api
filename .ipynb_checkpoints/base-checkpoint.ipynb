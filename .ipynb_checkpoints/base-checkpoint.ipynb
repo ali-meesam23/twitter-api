{
 "cells": [
  {
   "cell_type": "code",
   "execution_count": 22,
   "id": "understood-tomato",
   "metadata": {},
   "outputs": [],
   "source": [
    "# IMPORTS\n",
    "import os\n",
    "import tweepy as tw\n",
    "import pandas as pd\n",
    "import configparser\n",
    "\n",
    "config = configparser.ConfigParser()\n",
    "# READ CONFIG FILE\n",
    "config.read(\"config\")\n",
    "# TWITTER API AUTH PARAMS\n",
    "access_token= config['TWITTER']['ACCESS_TOKEN']\n",
    "access_token_secret= config['TWITTER']['ACCESS_TOKEN_SECRET']\n",
    "consumer_key= config['TWITTER']['API_KEY']\n",
    "consumer_secret= config['TWITTER']['SECRET_KEY']"
   ]
  },
  {
   "cell_type": "code",
   "execution_count": 23,
   "id": "willing-identification",
   "metadata": {},
   "outputs": [],
   "source": [
    "auth = tw.OAuthHandler(consumer_key, consumer_secret)\n",
    "auth.set_access_token(access_token, access_token_secret)\n",
    "api = tw.API(auth, wait_on_rate_limit=True)"
   ]
  },
  {
   "cell_type": "code",
   "execution_count": 24,
   "id": "earned-studio",
   "metadata": {},
   "outputs": [],
   "source": [
    "search_words = \"#IPOE\"\n",
    "date_since = '2020-01-01'"
   ]
  },
  {
   "cell_type": "code",
   "execution_count": 30,
   "id": "regional-jumping",
   "metadata": {},
   "outputs": [],
   "source": [
    "# Collect tweets\n",
    "tweets = tw.Cursor(api.search,\n",
    "              q=search_words,\n",
    "              lang=\"en\",\n",
    "              since=date_since).items(20)"
   ]
  },
  {
   "cell_type": "code",
   "execution_count": 26,
   "id": "vocal-clinton",
   "metadata": {},
   "outputs": [
    {
     "name": "stdout",
     "output_type": "stream",
     "text": [
      "******************************\n",
      "This is why I like anything @chamath touches. He knows his stuff! I know that he would make sure the team involved… https://t.co/fgoA19kBMD\n",
      "******************************\n",
      "******************************\n",
      "Great overview of the #ipoe merger with @SoFi #sofi $sofi #ipoe @chamath https://t.co/CU4vYKJykB\n",
      "******************************\n",
      "******************************\n",
      "@SoFi What about allowing non permanent residents? What’s your plan on that? Aren’t you missing out so much custome… https://t.co/kqRswjp4RC\n",
      "******************************\n",
      "******************************\n",
      "My analysis on #IPOE looks like a breakup coming soon what do you think @ThetaWarrior https://t.co/i8vHHJZRRh\n",
      "******************************\n",
      "******************************\n",
      "📈 $IPOE #IPOE \n",
      "+110% Search Increase on Google (4 Hours)\n",
      "******************************\n",
      "******************************\n",
      "SOMEONE I KNOW WHO GETS PAID TO HAVE PEOPLE DOWNLOAD APPS, SAYS DURING ROBIN HOOD \"SCANDAL\" THOUSANDS WERE DOWNLOAD… https://t.co/4BQCUgTGzh\n",
      "******************************\n",
      "******************************\n",
      "@SpacBobby $IPOE time to go hard! #SOFI Super Bowl next year you will wish you had #IPOE SOFI\n",
      "******************************\n",
      "******************************\n",
      "$IPOE so underpriced right now it’s ridiculous!!  Buy buy buy! #IPOE\n",
      "******************************\n",
      "******************************\n",
      "SPAC’s I am invested in.                 #CCIV, #IPOF, #IPOD, #IPOE, #GSAH, #QELL, #PDAC, #FTOC, #AJAX , #BFT, #AACQ\n",
      "******************************\n",
      "******************************\n",
      "AFTER HOURS!!!  GO!!!!  BUY BUY BUY!!! DON'T GIVE UP!!! #EXPR #IPOE #BBBY #BB #KOSS #SNDL -  #StockMarket… https://t.co/oak1mjiZWY\n",
      "******************************\n",
      "******************************\n",
      "BUY BUY BUY!!! DON'T GIVE UP!!! #EXPR #IPOE #BBBY #BB #KOSS #SNDL -  #StockMarket #StocksToWatch #stocks #StocksToBuy #DayTrading\n",
      "******************************\n",
      "******************************\n",
      "BRING IT ON AGAIN!!!! BUY BUY BUY!!! IT CAN HAPPEN AGAIN!!! #EXPR #IPOE #BBBY #BB #KOSS #SNDL -  #StockMarket… https://t.co/rGiwTaNuyF\n",
      "******************************\n",
      "******************************\n",
      "RT @AlleyCatFinance: $IPOE #IPOE is oversold, and undervalued. The 5 Day MA is underwhelming, but this is a solid watch list add. We expect…\n",
      "******************************\n",
      "******************************\n",
      "$IPOE APRIL 35 call options 2.05..... load it up!!!!!!!!!! #SPAC #IPOA #IPOB #IPOC #IPOD #IPOE #IPOF #SPACs 🚀 💰 🌙\n",
      "******************************\n",
      "******************************\n",
      "$IPOE #IPOE is oversold, and undervalued. The 5 Day MA is underwhelming, but this is a solid watch list add. We exp… https://t.co/8qrPbCrPJ4\n",
      "******************************\n",
      "******************************\n",
      "Most of the volatility here from #CCIV. Need them to speak the frik up. Added to my #CCV position and #IPOE options. https://t.co/JoM9yu1lVK\n",
      "******************************\n",
      "******************************\n",
      "LET'S MAKE THIS HAPPEN AGAIN!! #EXPR #IPOE #BBBY #BB #KOSS #SNDL -- #StockMarket #StocksToWatch #stocks… https://t.co/IyyV9gyz1n\n",
      "******************************\n",
      "******************************\n",
      "BUY BUY BUY!!! IT CAN HAPPEN AGAIN!!! #EXPR #IPOE #BBBY #BB #KOSS #SNDL -  #StockMarket #StocksToWatch #stocks #StocksToBuy #DayTrading\n",
      "******************************\n",
      "******************************\n",
      "ON THE RISE!!!  BUY BUY BUY!!!  LETS MAKE MONEY TOGETHER!!!  #EXPR #IPOE #BBBY #BB #KOSS #SNDL -  #StockMarket… https://t.co/hOGJgtjH04\n",
      "******************************\n",
      "******************************\n",
      "WE CAN DO IT AGAIN!!  MAKE MONEY &amp; BUY --- #EXPR #IPOE #BBBY #BB #KOSS #SNDL -  #StockMarket #StocksToWatch #stocks #StocksToBuy #DayTrading\n",
      "******************************\n"
     ]
    }
   ],
   "source": [
    "for tweet in tweets:\n",
    "    print(\"*\"*30)\n",
    "    print(tweet.text)\n",
    "    print(\"*\"*30)"
   ]
  },
  {
   "cell_type": "code",
   "execution_count": 33,
   "id": "emerging-paint",
   "metadata": {},
   "outputs": [],
   "source": [
    "result = [tweet.text for tweet in tweets]"
   ]
  },
  {
   "cell_type": "code",
   "execution_count": 28,
   "id": "monthly-arabic",
   "metadata": {},
   "outputs": [
    {
     "data": {
      "text/plain": [
       "[]"
      ]
     },
     "execution_count": 28,
     "metadata": {},
     "output_type": "execute_result"
    }
   ],
   "source": [
    "result"
   ]
  },
  {
   "cell_type": "code",
   "execution_count": 32,
   "id": "suburban-gasoline",
   "metadata": {},
   "outputs": [],
   "source": [
    "users_locs = [[tweet.user.screen_name, tweet.user.location] for tweet in tweets]"
   ]
  },
  {
   "cell_type": "code",
   "execution_count": 34,
   "id": "derived-walker",
   "metadata": {},
   "outputs": [
    {
     "data": {
      "text/plain": [
       "[['ErickFlorezNY', ''],\n",
       " ['MariofromQueens', 'New York, New York'],\n",
       " ['nikunjmodi89', ''],\n",
       " ['hadieawan2', 'Stockholm, Sweden'],\n",
       " ['StockHype_io', 'Mars'],\n",
       " ['WhyNotStocks', 'U.S. Stock Exchange '],\n",
       " ['stockmcease', ''],\n",
       " ['mcease0222', ''],\n",
       " ['Joss20820374', ''],\n",
       " ['lorilone', ''],\n",
       " ['lorilone', ''],\n",
       " ['lorilone', ''],\n",
       " ['AlleyCatFinance', 'New York '],\n",
       " ['The0Sirus', ''],\n",
       " ['AlleyCatFinance', 'New York '],\n",
       " ['FiboNachoLibre', 'The Lords House'],\n",
       " ['lorilone', ''],\n",
       " ['lorilone', ''],\n",
       " ['lorilone', ''],\n",
       " ['lorilone', '']]"
      ]
     },
     "execution_count": 34,
     "metadata": {},
     "output_type": "execute_result"
    }
   ],
   "source": [
    "users_locs"
   ]
  },
  {
   "cell_type": "code",
   "execution_count": null,
   "id": "explicit-palmer",
   "metadata": {},
   "outputs": [],
   "source": []
  }
 ],
 "metadata": {
  "kernelspec": {
   "display_name": "Python 3",
   "language": "python",
   "name": "python3"
  },
  "language_info": {
   "codemirror_mode": {
    "name": "ipython",
    "version": 3
   },
   "file_extension": ".py",
   "mimetype": "text/x-python",
   "name": "python",
   "nbconvert_exporter": "python",
   "pygments_lexer": "ipython3",
   "version": "3.8.6"
  }
 },
 "nbformat": 4,
 "nbformat_minor": 5
}
